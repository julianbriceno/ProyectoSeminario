{
 "cells": [
  {
   "cell_type": "markdown",
   "metadata": {
    "hide_input": false
   },
   "source": [
    "# Análisis de Datos\n",
    "## 1.- Búsqueda del dataset"
   ]
  },
  {
   "cell_type": "markdown",
   "metadata": {},
   "source": [
    "### Se realizó una encuesta en internet, mediante Google Form:"
   ]
  },
  {
   "cell_type": "markdown",
   "metadata": {},
   "source": [
    "https://docs.google.com/forms/d/e/1FAIpQLSdugT3KgsfQEmvB0XVnWhP3Cd5t1fSSJ7mqBY2-I_IZyxBYew/viewform?usp=sf_link"
   ]
  },
  {
   "cell_type": "markdown",
   "metadata": {},
   "source": [
    "\n",
    "<img src=\"figuras/Portada_preguntas_seminario.png\" width=\"100%\" alto=\"no\">\n"
   ]
  },
  {
   "cell_type": "markdown",
   "metadata": {},
   "source": [
    "Es una encuesta con 6 preguntas delas cuales:\n",
    "    - 1. 3 preguntas de interes para Julián.\n",
    "        1.1 - Hacer un elogio.\n",
    "        1.2 - Hacer una pregunta.\n",
    "        1.3 - Otro\n",
    "    - 2.- 3 Preguntas de intereés para Jonathan.\n",
    "    \n",
    "# El llenado de la encuesta puede descargarse como un archivo csv\n"
   ]
  },
  {
   "cell_type": "markdown",
   "metadata": {},
   "source": [
    "<img src=\"figuras/guardado_data_csv_seminario.png\" alt=\"guardado\" style=\"width: 75%\" align=\"center\"/>"
   ]
  },
  {
   "cell_type": "markdown",
   "metadata": {},
   "source": [
    "# Con el archivo cvs descargado debe limpiarse la data:\n",
    "\n",
    "- Esto se realiza debido a que por problemas o inconsistencias pueden afectar en la exactitud del vector de palabras:\n",
    "    1. Palabras sin acentos.\n",
    "    2. Palabras con acentos.\n",
    "    3. Groserias.\n",
    "    4. Signos de interrogación\n",
    "    5. Otros"
   ]
  },
  {
   "cell_type": "markdown",
   "metadata": {},
   "source": [
    "#### Versiones usadas en este Python Notebook"
   ]
  },
  {
   "cell_type": "code",
   "execution_count": 1,
   "metadata": {},
   "outputs": [
    {
     "name": "stdout",
     "output_type": "stream",
     "text": [
      "Versión de Python: 3.6.5 |Anaconda custom (32-bit)| (default, Apr 29 2018, 16:28:17) \n",
      "[GCC 7.2.0]\n",
      "Versión de pandas: 0.22.0\n",
      "Versión de matplotlib: 2.2.2\n",
      "Versión de NumPy: 1.14.2\n",
      "Versión de SciPy: 1.0.1\n",
      "Versión de IPython: 6.3.1\n",
      "Versión de Panda: 0.22.0\n"
     ]
    }
   ],
   "source": [
    "import sys\n",
    "print(\"Versión de Python: {}\".format(sys.version))\n",
    "\n",
    "import pandas as pd\n",
    "print(\"Versión de pandas: {}\".format(pd.__version__))\n",
    "\n",
    "import matplotlib\n",
    "print(\"Versión de matplotlib: {}\".format(matplotlib.__version__))\n",
    "\n",
    "import numpy as np\n",
    "print(\"Versión de NumPy: {}\".format(np.__version__))\n",
    "\n",
    "import scipy as sp\n",
    "print(\"Versión de SciPy: {}\".format(sp.__version__))\n",
    "\n",
    "import IPython\n",
    "print(\"Versión de IPython: {}\".format(IPython.__version__))\n",
    "\n",
    "import pandas as pd\n",
    "print(\"Versión de Panda: {}\".format(pd.__version__))\n",
    "\n",
    "%matplotlib inline"
   ]
  },
  {
   "cell_type": "markdown",
   "metadata": {},
   "source": [
    "### Cargar el conjunto de datos limpios\n"
   ]
  },
  {
   "cell_type": "code",
   "execution_count": 2,
   "metadata": {},
   "outputs": [
    {
     "data": {
      "text/html": [
       "<div>\n",
       "<style scoped>\n",
       "    .dataframe tbody tr th:only-of-type {\n",
       "        vertical-align: middle;\n",
       "    }\n",
       "\n",
       "    .dataframe tbody tr th {\n",
       "        vertical-align: top;\n",
       "    }\n",
       "\n",
       "    .dataframe thead th {\n",
       "        text-align: right;\n",
       "    }\n",
       "</style>\n",
       "<table border=\"1\" class=\"dataframe\">\n",
       "  <thead>\n",
       "    <tr style=\"text-align: right;\">\n",
       "      <th></th>\n",
       "      <th>Escriba un frase corta con un elogio, máximo 5 palabras.</th>\n",
       "      <th>Escriba un frase corta en forma de pregunta, máximo 5 palabras.</th>\n",
       "      <th>Escriba un frase corta que sea diferente a las categorías anteriores, máximo 5 palabras</th>\n",
       "      <th>Escriba una frase que exprese un sentimiento positivo, mínimo 10 palabras</th>\n",
       "      <th>Escriba una frase que exprese un sentimiento negativo, mínimo 10 palabras</th>\n",
       "      <th>Escriba una frase que exprese un sentimiento neutral, mínimo 10 palabras</th>\n",
       "    </tr>\n",
       "    <tr>\n",
       "      <th>Marca temporal</th>\n",
       "      <th></th>\n",
       "      <th></th>\n",
       "      <th></th>\n",
       "      <th></th>\n",
       "      <th></th>\n",
       "      <th></th>\n",
       "    </tr>\n",
       "  </thead>\n",
       "  <tbody>\n",
       "    <tr>\n",
       "      <th>2018/04/21 2:18:48 p. m. GMT-4</th>\n",
       "      <td>me caes muy bien</td>\n",
       "      <td>cómo vas con la tesis?</td>\n",
       "      <td>tengo mucha hambre</td>\n",
       "      <td>Me siento muy afortunado de tenerte aquí justo...</td>\n",
       "      <td>Odio a aquellos profesores que creen sabérsela...</td>\n",
       "      <td>El día de hoy se puede ir a hacer compras en e...</td>\n",
       "    </tr>\n",
       "    <tr>\n",
       "      <th>2018/04/21 3:21:12 p. m. GMT-4</th>\n",
       "      <td>Tú eres excelente</td>\n",
       "      <td>¿Cómo lo haces?</td>\n",
       "      <td>La despertad del sueño</td>\n",
       "      <td>Hoy quiero conquistar el mundo, tengo mucha en...</td>\n",
       "      <td>Ya no vale la pena seguir intentando, puesto q...</td>\n",
       "      <td>Es un día normal, cómo cualquier otro para emp...</td>\n",
       "    </tr>\n",
       "    <tr>\n",
       "      <th>2018/04/21 3:22:23 p. m. GMT-4</th>\n",
       "      <td>Eres preciosa</td>\n",
       "      <td>¿Qué queres?</td>\n",
       "      <td>Eso me interesa</td>\n",
       "      <td>La humanidad tiende siempre hacia el progreso,...</td>\n",
       "      <td>Argentina lleva 70 años de decadencia, pasamos...</td>\n",
       "      <td>La formula resolvente es menos b más menos rai...</td>\n",
       "    </tr>\n",
       "    <tr>\n",
       "      <th>2018/04/21 3:58:34 p. m. GMT-4</th>\n",
       "      <td>tan bello como el sol</td>\n",
       "      <td>tienes hambre ?</td>\n",
       "      <td>unico asi es nuestro amor</td>\n",
       "      <td>No dejare morir el resplandor que brota de mi ...</td>\n",
       "      <td>Si no estas a mi lado la tristeza llena mi cor...</td>\n",
       "      <td>No importa lo bueno o lo malo, si hace frio o ...</td>\n",
       "    </tr>\n",
       "    <tr>\n",
       "      <th>2018/04/21 5:42:05 p. m. GMT-4</th>\n",
       "      <td>Tu ayuda me es útil</td>\n",
       "      <td>¿Ya llegó el agua?</td>\n",
       "      <td>Estuve pensando mucho que responder</td>\n",
       "      <td>Mejor temprano que tarde, mejor tarde que nunca</td>\n",
       "      <td>Cualquier cosa hecha es inútil comparado al ta...</td>\n",
       "      <td>El poder se obtiene por la acción no por méritos</td>\n",
       "    </tr>\n",
       "  </tbody>\n",
       "</table>\n",
       "</div>"
      ],
      "text/plain": [
       "                               Escriba un frase corta con un elogio, máximo 5 palabras.  \\\n",
       "Marca temporal                                                                            \n",
       "2018/04/21 2:18:48 p. m. GMT-4                                   me caes muy bien         \n",
       "2018/04/21 3:21:12 p. m. GMT-4                                  Tú eres excelente         \n",
       "2018/04/21 3:22:23 p. m. GMT-4                                      Eres preciosa         \n",
       "2018/04/21 3:58:34 p. m. GMT-4                              tan bello como el sol         \n",
       "2018/04/21 5:42:05 p. m. GMT-4                                Tu ayuda me es útil         \n",
       "\n",
       "                               Escriba un frase corta en forma de pregunta, máximo 5 palabras.  \\\n",
       "Marca temporal                                                                                   \n",
       "2018/04/21 2:18:48 p. m. GMT-4                             cómo vas con la tesis?                \n",
       "2018/04/21 3:21:12 p. m. GMT-4                                    ¿Cómo lo haces?                \n",
       "2018/04/21 3:22:23 p. m. GMT-4                                       ¿Qué queres?                \n",
       "2018/04/21 3:58:34 p. m. GMT-4                                    tienes hambre ?                \n",
       "2018/04/21 5:42:05 p. m. GMT-4                                 ¿Ya llegó el agua?                \n",
       "\n",
       "                               Escriba un frase corta que sea diferente a las categorías anteriores, máximo 5 palabras  \\\n",
       "Marca temporal                                                                                                           \n",
       "2018/04/21 2:18:48 p. m. GMT-4                                 tengo mucha hambre                                        \n",
       "2018/04/21 3:21:12 p. m. GMT-4                            La despertad del sueño                                         \n",
       "2018/04/21 3:22:23 p. m. GMT-4                                    Eso me interesa                                        \n",
       "2018/04/21 3:58:34 p. m. GMT-4                          unico asi es nuestro amor                                        \n",
       "2018/04/21 5:42:05 p. m. GMT-4                Estuve pensando mucho que responder                                        \n",
       "\n",
       "                               Escriba una frase que exprese un sentimiento positivo, mínimo 10 palabras  \\\n",
       "Marca temporal                                                                                             \n",
       "2018/04/21 2:18:48 p. m. GMT-4  Me siento muy afortunado de tenerte aquí justo...                          \n",
       "2018/04/21 3:21:12 p. m. GMT-4  Hoy quiero conquistar el mundo, tengo mucha en...                          \n",
       "2018/04/21 3:22:23 p. m. GMT-4  La humanidad tiende siempre hacia el progreso,...                          \n",
       "2018/04/21 3:58:34 p. m. GMT-4  No dejare morir el resplandor que brota de mi ...                          \n",
       "2018/04/21 5:42:05 p. m. GMT-4    Mejor temprano que tarde, mejor tarde que nunca                          \n",
       "\n",
       "                               Escriba una frase que exprese un sentimiento negativo, mínimo 10 palabras  \\\n",
       "Marca temporal                                                                                             \n",
       "2018/04/21 2:18:48 p. m. GMT-4  Odio a aquellos profesores que creen sabérsela...                          \n",
       "2018/04/21 3:21:12 p. m. GMT-4  Ya no vale la pena seguir intentando, puesto q...                          \n",
       "2018/04/21 3:22:23 p. m. GMT-4  Argentina lleva 70 años de decadencia, pasamos...                          \n",
       "2018/04/21 3:58:34 p. m. GMT-4  Si no estas a mi lado la tristeza llena mi cor...                          \n",
       "2018/04/21 5:42:05 p. m. GMT-4  Cualquier cosa hecha es inútil comparado al ta...                          \n",
       "\n",
       "                               Escriba una frase que exprese un sentimiento neutral, mínimo 10 palabras  \n",
       "Marca temporal                                                                                           \n",
       "2018/04/21 2:18:48 p. m. GMT-4  El día de hoy se puede ir a hacer compras en e...                        \n",
       "2018/04/21 3:21:12 p. m. GMT-4  Es un día normal, cómo cualquier otro para emp...                        \n",
       "2018/04/21 3:22:23 p. m. GMT-4  La formula resolvente es menos b más menos rai...                        \n",
       "2018/04/21 3:58:34 p. m. GMT-4  No importa lo bueno o lo malo, si hace frio o ...                        \n",
       "2018/04/21 5:42:05 p. m. GMT-4   El poder se obtiene por la acción no por méritos                        "
      ]
     },
     "execution_count": 2,
     "metadata": {},
     "output_type": "execute_result"
    }
   ],
   "source": [
    "# Leer los datos a un DataFrame\n",
    "data = pd.read_csv('datos/data_read_seminario.csv', index_col=0)\n",
    "data.head()"
   ]
  },
  {
   "cell_type": "markdown",
   "metadata": {},
   "source": [
    "# De la tabla anterior:\n",
    "\n",
    "- Obbserve que los datos que me interesan son:\n",
    "    1. Columna 1: Elogio.\n",
    "    2. Columna 2: Pregunta.\n",
    "    3. Columna 3: Otro.\n",
    "    4. La Marca Temporal será la columna 0. No nos sirve.\n",
    "    5. Las tres columnas restantes son de interes para Jonathan"
   ]
  },
  {
   "cell_type": "markdown",
   "metadata": {},
   "source": [
    "# El conjunto de datos puede tomarse como un diccionario con las siguientes claves:"
   ]
  },
  {
   "cell_type": "code",
   "execution_count": 3,
   "metadata": {},
   "outputs": [
    {
     "name": "stdout",
     "output_type": "stream",
     "text": [
      "Llaves de iris_dataset: Index(['Escriba un frase corta con un elogio, máximo 5 palabras.',\n",
      "       'Escriba un frase corta en forma de pregunta, máximo 5 palabras.',\n",
      "       'Escriba un frase corta que sea diferente a las categorías anteriores, máximo 5 palabras',\n",
      "       'Escriba una frase que exprese un sentimiento positivo, mínimo 10 palabras',\n",
      "       'Escriba una frase que exprese un sentimiento negativo, mínimo 10 palabras',\n",
      "       'Escriba una frase que exprese un sentimiento neutral, mínimo 10 palabras'],\n",
      "      dtype='object')\n"
     ]
    }
   ],
   "source": [
    "print(\"Llaves de iris_dataset: {}\".format(data.keys()))\n"
   ]
  },
  {
   "cell_type": "markdown",
   "metadata": {},
   "source": [
    "# Pero lo que quiero como diccionario sería una dataset con dos columnas. \n",
    "    1. La data.\n",
    "    2. su etiqueta\n",
    "\n",
    "## Para ello entonces transformo mi dataset a uno que se acomode más a lo que necesito:"
   ]
  },
  {
   "cell_type": "code",
   "execution_count": 4,
   "metadata": {},
   "outputs": [],
   "source": [
    "import csv\n",
    "\n",
    "CSV_DATA_FILENAME = 'datos/data_read_seminario.csv'\n",
    "CSV_LABELED_DATA_FILENAME = 'datos/training_data_seminario.csv'\n",
    "\n",
    "COMPLIMENT_ROW = 1\n",
    "QUESTION_ROW   = 2\n",
    "OTHER_ROW \t   = 3\n",
    "\n",
    "COMPLIMENT_LABEL = 'ELOGIO'\n",
    "QUESTION_LABEL \t = 'PREGUNTA'\n",
    "OTHER_LABEL \t = 'OTRO'\n",
    "\n",
    "with open(CSV_DATA_FILENAME, newline = '') as csvDataFile:\n",
    "\twith open(CSV_LABELED_DATA_FILENAME,'w') as csvLabeledDataFile:\n",
    "\t\tcsvReader = csv.reader(csvDataFile)\n",
    "\t\tcsvReader.__next__() # skip header line\n",
    "\t\tfor row in csvReader:\n",
    "\t\t\tcsvLabeledDataFile.write('\"' + row[COMPLIMENT_ROW] + '\"' + ','\n",
    "\t\t\t\t\t\t\t\t\t + COMPLIMENT_LABEL + '\\n')\n",
    "\t\t\tcsvLabeledDataFile.write('\"' + row[QUESTION_ROW] + '\"' + ','\n",
    "\t\t\t\t\t\t\t\t\t + QUESTION_LABEL + '\\n')\n",
    "\t\t\tcsvLabeledDataFile.write('\"' + row[OTHER_ROW] + '\"' + ','\n",
    "\t\t\t\t\t\t\t\t\t + OTHER_LABEL + '\\n')\n"
   ]
  },
  {
   "cell_type": "markdown",
   "metadata": {},
   "source": [
    "# Ahora si puedo mostrar mi dataset como quiero:"
   ]
  },
  {
   "cell_type": "code",
   "execution_count": 5,
   "metadata": {},
   "outputs": [
    {
     "data": {
      "text/html": [
       "<div>\n",
       "<style scoped>\n",
       "    .dataframe tbody tr th:only-of-type {\n",
       "        vertical-align: middle;\n",
       "    }\n",
       "\n",
       "    .dataframe tbody tr th {\n",
       "        vertical-align: top;\n",
       "    }\n",
       "\n",
       "    .dataframe thead th {\n",
       "        text-align: right;\n",
       "    }\n",
       "</style>\n",
       "<table border=\"1\" class=\"dataframe\">\n",
       "  <thead>\n",
       "    <tr style=\"text-align: right;\">\n",
       "      <th></th>\n",
       "      <th>ELOGIO</th>\n",
       "    </tr>\n",
       "    <tr>\n",
       "      <th>me caes muy bien</th>\n",
       "      <th></th>\n",
       "    </tr>\n",
       "  </thead>\n",
       "  <tbody>\n",
       "    <tr>\n",
       "      <th>cómo vas con la tesis?</th>\n",
       "      <td>PREGUNTA</td>\n",
       "    </tr>\n",
       "    <tr>\n",
       "      <th>tengo mucha hambre</th>\n",
       "      <td>OTRO</td>\n",
       "    </tr>\n",
       "    <tr>\n",
       "      <th>Tú eres excelente</th>\n",
       "      <td>ELOGIO</td>\n",
       "    </tr>\n",
       "    <tr>\n",
       "      <th>¿Cómo lo haces?</th>\n",
       "      <td>PREGUNTA</td>\n",
       "    </tr>\n",
       "    <tr>\n",
       "      <th>La despertad del sueño</th>\n",
       "      <td>OTRO</td>\n",
       "    </tr>\n",
       "  </tbody>\n",
       "</table>\n",
       "</div>"
      ],
      "text/plain": [
       "                           ELOGIO\n",
       "me caes muy bien                 \n",
       "cómo vas con la tesis?   PREGUNTA\n",
       "tengo mucha hambre           OTRO\n",
       "Tú eres excelente          ELOGIO\n",
       "¿Cómo lo haces?          PREGUNTA\n",
       "La despertad del sueño       OTRO"
      ]
     },
     "execution_count": 5,
     "metadata": {},
     "output_type": "execute_result"
    }
   ],
   "source": [
    "# Leer los datos a un DataFrame\n",
    "data_training = pd.read_csv('datos/training_data_seminario.csv', index_col=0)\n",
    "data_training.head()"
   ]
  },
  {
   "cell_type": "code",
   "execution_count": 6,
   "metadata": {},
   "outputs": [
    {
     "data": {
      "text/html": [
       "<div>\n",
       "<style scoped>\n",
       "    .dataframe tbody tr th:only-of-type {\n",
       "        vertical-align: middle;\n",
       "    }\n",
       "\n",
       "    .dataframe tbody tr th {\n",
       "        vertical-align: top;\n",
       "    }\n",
       "\n",
       "    .dataframe thead th {\n",
       "        text-align: right;\n",
       "    }\n",
       "</style>\n",
       "<table border=\"1\" class=\"dataframe\">\n",
       "  <thead>\n",
       "    <tr style=\"text-align: right;\">\n",
       "      <th></th>\n",
       "      <th>ELOGIO</th>\n",
       "    </tr>\n",
       "    <tr>\n",
       "      <th>me caes muy bien</th>\n",
       "      <th></th>\n",
       "    </tr>\n",
       "  </thead>\n",
       "  <tbody>\n",
       "    <tr>\n",
       "      <th>Cómo estuvo tu día?</th>\n",
       "      <td>PREGUNTA</td>\n",
       "    </tr>\n",
       "    <tr>\n",
       "      <th>Lo mejor esta por llegar.</th>\n",
       "      <td>OTRO</td>\n",
       "    </tr>\n",
       "    <tr>\n",
       "      <th>upa que bella</th>\n",
       "      <td>ELOGIO</td>\n",
       "    </tr>\n",
       "    <tr>\n",
       "      <th>Que le pasa mire que lo he visto</th>\n",
       "      <td>PREGUNTA</td>\n",
       "    </tr>\n",
       "    <tr>\n",
       "      <th>venga que quiero compartir con usted</th>\n",
       "      <td>OTRO</td>\n",
       "    </tr>\n",
       "  </tbody>\n",
       "</table>\n",
       "</div>"
      ],
      "text/plain": [
       "                                        ELOGIO\n",
       "me caes muy bien                              \n",
       "Cómo estuvo tu día?                   PREGUNTA\n",
       "Lo mejor esta por llegar.                 OTRO\n",
       "upa que bella                           ELOGIO\n",
       "Que le pasa mire que lo he visto      PREGUNTA\n",
       "venga que quiero compartir con usted      OTRO"
      ]
     },
     "execution_count": 6,
     "metadata": {},
     "output_type": "execute_result"
    }
   ],
   "source": [
    "data_training.tail()"
   ]
  },
  {
   "cell_type": "markdown",
   "metadata": {},
   "source": [
    "# ¿Para qué queremos ésto?\n",
    "\n",
    "<img src=\"figuras/ejemplo_clasificacion_seminario.png\" width=\"70%\" alto=\"no\">\n",
    "\n",
    "- De momento tenemos una serie de palabras clasificadas, pero para utilizar algorítmos de machine learning debemos convertirlo a de archivos de texto a vectores numéricos.\n",
    "- A cada frase/palabra se le asignará un id el cuál nos servirá como diccionario\n"
   ]
  },
  {
   "cell_type": "code",
   "execution_count": 7,
   "metadata": {},
   "outputs": [
    {
     "data": {
      "text/plain": [
       "(1, 1)"
      ]
     },
     "execution_count": 7,
     "metadata": {},
     "output_type": "execute_result"
    }
   ],
   "source": [
    "from sklearn.feature_extraction.text import CountVectorizer\n",
    "count_vect = CountVectorizer()\n",
    "X_train_counts = count_vect.fit_transform(data_training)\n",
    "X_train_counts.shape"
   ]
  },
  {
   "cell_type": "markdown",
   "metadata": {},
   "source": [
    "\n",
    "# De momento tengo errores debido a que no está etiquetando la data al pasarlo al nuevo csv, así como no está mostrando una dimenisón de la matriz acorde con el tamaño de data"
   ]
  }
 ],
 "metadata": {
  "anaconda-cloud": {},
  "kernelspec": {
   "display_name": "Python 3",
   "language": "python",
   "name": "python3"
  },
  "language_info": {
   "codemirror_mode": {
    "name": "ipython",
    "version": 3
   },
   "file_extension": ".py",
   "mimetype": "text/x-python",
   "name": "python",
   "nbconvert_exporter": "python",
   "pygments_lexer": "ipython3",
   "version": "3.6.5"
  }
 },
 "nbformat": 4,
 "nbformat_minor": 2
}
