{
  "nbformat": 4,
  "nbformat_minor": 0,
  "metadata": {
    "colab": {
      "name": "Hola_Mundo_Neuronas-Julian_Briceno.ipynb",
      "version": "0.3.2",
      "views": {},
      "default_view": {},
      "provenance": [],
      "collapsed_sections": []
    },
    "kernelspec": {
      "display_name": "Python 3",
      "language": "python",
      "name": "python3"
    },
    "accelerator": "GPU"
  },
  "cells": [
    {
      "metadata": {
        "id": "akCbsaH_nNOE",
        "colab_type": "text"
      },
      "cell_type": "markdown",
      "source": [
        "# \"Hola Mundo\" mediante Aprendizaje Profundo (Deep Learning)"
      ]
    },
    {
      "metadata": {
        "id": "3R82czcOnNOg",
        "colab_type": "text"
      },
      "cell_type": "markdown",
      "source": [
        "\n",
        "Datos trabajados: [Fashion MNIST](https://github.com/zalandoresearch/fashion-mnist)\n",
        "\n",
        "\n",
        "---\n",
        "\n",
        "<img src=\"https://github.com/zalandoresearch/fashion-mnist/raw/master/doc/img/fashion-mnist-sprite.png\" width=\"100%\">\n"
      ]
    },
    {
      "metadata": {
        "id": "NocQk7fNJJMY",
        "colab_type": "text"
      },
      "cell_type": "markdown",
      "source": [
        "---\n",
        "1. Se requiere clasificar cada una de las prendas proporcionadas por el conjunto de datos.\n",
        "2. Se hace uso de Google Collective para el procesamiento de datos.\n",
        "3. El modelo fue desarrollador con Keras: Red Neuronal de alto nivel\n"
      ]
    },
    {
      "metadata": {
        "id": "sdBLatugnNOi",
        "colab_type": "text"
      },
      "cell_type": "markdown",
      "source": [
        "### Descomprimir los archivos de datos"
      ]
    },
    {
      "metadata": {
        "id": "d1u-9rzMoObF",
        "colab_type": "code",
        "colab": {
          "autoexec": {
            "startup": false,
            "wait_interval": 0
          }
        }
      },
      "cell_type": "code",
      "source": [
        "! pip install pydrive\n",
        "# these classes allow you to request the Google drive API\n",
        "from pydrive.auth import GoogleAuth\n",
        "from pydrive.drive import GoogleDrive \n",
        "from google.colab import auth \n",
        "from oauth2client.client import GoogleCredentials\n",
        "\n",
        "# 1. Authenticate and create the PyDrive client.\n",
        "auth.authenticate_user()\n",
        "gauth = GoogleAuth()\n",
        "gauth.credentials = GoogleCredentials.get_application_default()\n",
        "drive = GoogleDrive(gauth)\n",
        "file_id_test = '1NEUvBmMTn-U3Ki7KCW0sMMX3jNPwrpbm'\n",
        "file_id_train = '1FzZo48e4PlcymxyQB9GHJcrLUQsobR3a'\n",
        "downloaded2 = drive.CreateFile({'id': file_id_test})\n",
        "downloaded1 = drive.CreateFile({'id': file_id_train})\n",
        "# allows you to temporarily load your file in the notebook VM\n",
        "\n",
        "# assume the file is called file.csv and it's located at the root of your drive\n",
        "downloaded2.GetContentFile('fashion-mnist_test.csv')\n",
        "downloaded1.GetContentFile('fashion-mnist_train.csv')"
      ],
      "execution_count": 0,
      "outputs": []
    },
    {
      "metadata": {
        "id": "crZi9C7rnNO_",
        "colab_type": "text"
      },
      "cell_type": "markdown",
      "source": [
        "### Leer los datos"
      ]
    },
    {
      "metadata": {
        "id": "WKTo8VdXnNPB",
        "colab_type": "code",
        "colab": {
          "autoexec": {
            "startup": false,
            "wait_interval": 0
          }
        }
      },
      "cell_type": "code",
      "source": [
        "import numpy as np \n",
        "import pandas as pd"
      ],
      "execution_count": 0,
      "outputs": []
    },
    {
      "metadata": {
        "id": "oRBezfq9nNPG",
        "colab_type": "code",
        "colab": {
          "autoexec": {
            "startup": false,
            "wait_interval": 0
          }
        }
      },
      "cell_type": "code",
      "source": [
        "archivo_datos_entrenamiento = \"fashion-mnist_train.csv\"\n",
        "archivo_datos_prueba = \"fashion-mnist_test.csv\"\n",
        "\n",
        "df_entrenamiento = pd.read_csv(archivo_datos_entrenamiento)\n",
        "df_prueba = pd.read_csv(archivo_datos_prueba)\n"
      ],
      "execution_count": 0,
      "outputs": []
    },
    {
      "metadata": {
        "id": "sNGDnD4jnNPL",
        "colab_type": "code",
        "colab": {
          "autoexec": {
            "startup": false,
            "wait_interval": 0
          },
          "base_uri": "https://localhost:8080/",
          "height": 253
        },
        "outputId": "a97b7778-2082-440d-ff87-e1a6a4b34066",
        "executionInfo": {
          "status": "ok",
          "timestamp": 1525756561314,
          "user_tz": 240,
          "elapsed": 694,
          "user": {
            "displayName": "Julian Briceño",
            "photoUrl": "//lh6.googleusercontent.com/-cM5QEjH6glM/AAAAAAAAAAI/AAAAAAAAAEI/vpKwWe_9gnk/s50-c-k-no/photo.jpg",
            "userId": "110934278368506035141"
          }
        }
      },
      "cell_type": "code",
      "source": [
        "df_entrenamiento.head()"
      ],
      "execution_count": 4,
      "outputs": [
        {
          "output_type": "execute_result",
          "data": {
            "text/html": [
              "<div>\n",
              "<style scoped>\n",
              "    .dataframe tbody tr th:only-of-type {\n",
              "        vertical-align: middle;\n",
              "    }\n",
              "\n",
              "    .dataframe tbody tr th {\n",
              "        vertical-align: top;\n",
              "    }\n",
              "\n",
              "    .dataframe thead th {\n",
              "        text-align: right;\n",
              "    }\n",
              "</style>\n",
              "<table border=\"1\" class=\"dataframe\">\n",
              "  <thead>\n",
              "    <tr style=\"text-align: right;\">\n",
              "      <th></th>\n",
              "      <th>label</th>\n",
              "      <th>pixel1</th>\n",
              "      <th>pixel2</th>\n",
              "      <th>pixel3</th>\n",
              "      <th>pixel4</th>\n",
              "      <th>pixel5</th>\n",
              "      <th>pixel6</th>\n",
              "      <th>pixel7</th>\n",
              "      <th>pixel8</th>\n",
              "      <th>pixel9</th>\n",
              "      <th>...</th>\n",
              "      <th>pixel775</th>\n",
              "      <th>pixel776</th>\n",
              "      <th>pixel777</th>\n",
              "      <th>pixel778</th>\n",
              "      <th>pixel779</th>\n",
              "      <th>pixel780</th>\n",
              "      <th>pixel781</th>\n",
              "      <th>pixel782</th>\n",
              "      <th>pixel783</th>\n",
              "      <th>pixel784</th>\n",
              "    </tr>\n",
              "  </thead>\n",
              "  <tbody>\n",
              "    <tr>\n",
              "      <th>0</th>\n",
              "      <td>2</td>\n",
              "      <td>0</td>\n",
              "      <td>0</td>\n",
              "      <td>0</td>\n",
              "      <td>0</td>\n",
              "      <td>0</td>\n",
              "      <td>0</td>\n",
              "      <td>0</td>\n",
              "      <td>0</td>\n",
              "      <td>0</td>\n",
              "      <td>...</td>\n",
              "      <td>0</td>\n",
              "      <td>0</td>\n",
              "      <td>0</td>\n",
              "      <td>0</td>\n",
              "      <td>0</td>\n",
              "      <td>0</td>\n",
              "      <td>0</td>\n",
              "      <td>0</td>\n",
              "      <td>0</td>\n",
              "      <td>0</td>\n",
              "    </tr>\n",
              "    <tr>\n",
              "      <th>1</th>\n",
              "      <td>9</td>\n",
              "      <td>0</td>\n",
              "      <td>0</td>\n",
              "      <td>0</td>\n",
              "      <td>0</td>\n",
              "      <td>0</td>\n",
              "      <td>0</td>\n",
              "      <td>0</td>\n",
              "      <td>0</td>\n",
              "      <td>0</td>\n",
              "      <td>...</td>\n",
              "      <td>0</td>\n",
              "      <td>0</td>\n",
              "      <td>0</td>\n",
              "      <td>0</td>\n",
              "      <td>0</td>\n",
              "      <td>0</td>\n",
              "      <td>0</td>\n",
              "      <td>0</td>\n",
              "      <td>0</td>\n",
              "      <td>0</td>\n",
              "    </tr>\n",
              "    <tr>\n",
              "      <th>2</th>\n",
              "      <td>6</td>\n",
              "      <td>0</td>\n",
              "      <td>0</td>\n",
              "      <td>0</td>\n",
              "      <td>0</td>\n",
              "      <td>0</td>\n",
              "      <td>0</td>\n",
              "      <td>0</td>\n",
              "      <td>5</td>\n",
              "      <td>0</td>\n",
              "      <td>...</td>\n",
              "      <td>0</td>\n",
              "      <td>0</td>\n",
              "      <td>0</td>\n",
              "      <td>30</td>\n",
              "      <td>43</td>\n",
              "      <td>0</td>\n",
              "      <td>0</td>\n",
              "      <td>0</td>\n",
              "      <td>0</td>\n",
              "      <td>0</td>\n",
              "    </tr>\n",
              "    <tr>\n",
              "      <th>3</th>\n",
              "      <td>0</td>\n",
              "      <td>0</td>\n",
              "      <td>0</td>\n",
              "      <td>0</td>\n",
              "      <td>1</td>\n",
              "      <td>2</td>\n",
              "      <td>0</td>\n",
              "      <td>0</td>\n",
              "      <td>0</td>\n",
              "      <td>0</td>\n",
              "      <td>...</td>\n",
              "      <td>3</td>\n",
              "      <td>0</td>\n",
              "      <td>0</td>\n",
              "      <td>0</td>\n",
              "      <td>0</td>\n",
              "      <td>1</td>\n",
              "      <td>0</td>\n",
              "      <td>0</td>\n",
              "      <td>0</td>\n",
              "      <td>0</td>\n",
              "    </tr>\n",
              "    <tr>\n",
              "      <th>4</th>\n",
              "      <td>3</td>\n",
              "      <td>0</td>\n",
              "      <td>0</td>\n",
              "      <td>0</td>\n",
              "      <td>0</td>\n",
              "      <td>0</td>\n",
              "      <td>0</td>\n",
              "      <td>0</td>\n",
              "      <td>0</td>\n",
              "      <td>0</td>\n",
              "      <td>...</td>\n",
              "      <td>0</td>\n",
              "      <td>0</td>\n",
              "      <td>0</td>\n",
              "      <td>0</td>\n",
              "      <td>0</td>\n",
              "      <td>0</td>\n",
              "      <td>0</td>\n",
              "      <td>0</td>\n",
              "      <td>0</td>\n",
              "      <td>0</td>\n",
              "    </tr>\n",
              "  </tbody>\n",
              "</table>\n",
              "<p>5 rows × 785 columns</p>\n",
              "</div>"
            ],
            "text/plain": [
              "   label  pixel1  pixel2  pixel3  pixel4  pixel5  pixel6  pixel7  pixel8  \\\n",
              "0      2       0       0       0       0       0       0       0       0   \n",
              "1      9       0       0       0       0       0       0       0       0   \n",
              "2      6       0       0       0       0       0       0       0       5   \n",
              "3      0       0       0       0       1       2       0       0       0   \n",
              "4      3       0       0       0       0       0       0       0       0   \n",
              "\n",
              "   pixel9    ...     pixel775  pixel776  pixel777  pixel778  pixel779  \\\n",
              "0       0    ...            0         0         0         0         0   \n",
              "1       0    ...            0         0         0         0         0   \n",
              "2       0    ...            0         0         0        30        43   \n",
              "3       0    ...            3         0         0         0         0   \n",
              "4       0    ...            0         0         0         0         0   \n",
              "\n",
              "   pixel780  pixel781  pixel782  pixel783  pixel784  \n",
              "0         0         0         0         0         0  \n",
              "1         0         0         0         0         0  \n",
              "2         0         0         0         0         0  \n",
              "3         1         0         0         0         0  \n",
              "4         0         0         0         0         0  \n",
              "\n",
              "[5 rows x 785 columns]"
            ]
          },
          "metadata": {
            "tags": []
          },
          "execution_count": 4
        }
      ]
    },
    {
      "metadata": {
        "id": "ywAut61Yz2E1",
        "colab_type": "code",
        "colab": {
          "autoexec": {
            "startup": false,
            "wait_interval": 0
          },
          "base_uri": "https://localhost:8080/",
          "height": 253
        },
        "outputId": "64cc456f-407f-4559-b1c3-055269f483a4",
        "executionInfo": {
          "status": "ok",
          "timestamp": 1525756562454,
          "user_tz": 240,
          "elapsed": 952,
          "user": {
            "displayName": "Julian Briceño",
            "photoUrl": "//lh6.googleusercontent.com/-cM5QEjH6glM/AAAAAAAAAAI/AAAAAAAAAEI/vpKwWe_9gnk/s50-c-k-no/photo.jpg",
            "userId": "110934278368506035141"
          }
        }
      },
      "cell_type": "code",
      "source": [
        "df_prueba.head()"
      ],
      "execution_count": 5,
      "outputs": [
        {
          "output_type": "execute_result",
          "data": {
            "text/html": [
              "<div>\n",
              "<style scoped>\n",
              "    .dataframe tbody tr th:only-of-type {\n",
              "        vertical-align: middle;\n",
              "    }\n",
              "\n",
              "    .dataframe tbody tr th {\n",
              "        vertical-align: top;\n",
              "    }\n",
              "\n",
              "    .dataframe thead th {\n",
              "        text-align: right;\n",
              "    }\n",
              "</style>\n",
              "<table border=\"1\" class=\"dataframe\">\n",
              "  <thead>\n",
              "    <tr style=\"text-align: right;\">\n",
              "      <th></th>\n",
              "      <th>label</th>\n",
              "      <th>pixel1</th>\n",
              "      <th>pixel2</th>\n",
              "      <th>pixel3</th>\n",
              "      <th>pixel4</th>\n",
              "      <th>pixel5</th>\n",
              "      <th>pixel6</th>\n",
              "      <th>pixel7</th>\n",
              "      <th>pixel8</th>\n",
              "      <th>pixel9</th>\n",
              "      <th>...</th>\n",
              "      <th>pixel775</th>\n",
              "      <th>pixel776</th>\n",
              "      <th>pixel777</th>\n",
              "      <th>pixel778</th>\n",
              "      <th>pixel779</th>\n",
              "      <th>pixel780</th>\n",
              "      <th>pixel781</th>\n",
              "      <th>pixel782</th>\n",
              "      <th>pixel783</th>\n",
              "      <th>pixel784</th>\n",
              "    </tr>\n",
              "  </thead>\n",
              "  <tbody>\n",
              "    <tr>\n",
              "      <th>0</th>\n",
              "      <td>0</td>\n",
              "      <td>0</td>\n",
              "      <td>0</td>\n",
              "      <td>0</td>\n",
              "      <td>0</td>\n",
              "      <td>0</td>\n",
              "      <td>0</td>\n",
              "      <td>0</td>\n",
              "      <td>9</td>\n",
              "      <td>8</td>\n",
              "      <td>...</td>\n",
              "      <td>103</td>\n",
              "      <td>87</td>\n",
              "      <td>56</td>\n",
              "      <td>0</td>\n",
              "      <td>0</td>\n",
              "      <td>0</td>\n",
              "      <td>0</td>\n",
              "      <td>0</td>\n",
              "      <td>0</td>\n",
              "      <td>0</td>\n",
              "    </tr>\n",
              "    <tr>\n",
              "      <th>1</th>\n",
              "      <td>1</td>\n",
              "      <td>0</td>\n",
              "      <td>0</td>\n",
              "      <td>0</td>\n",
              "      <td>0</td>\n",
              "      <td>0</td>\n",
              "      <td>0</td>\n",
              "      <td>0</td>\n",
              "      <td>0</td>\n",
              "      <td>0</td>\n",
              "      <td>...</td>\n",
              "      <td>34</td>\n",
              "      <td>0</td>\n",
              "      <td>0</td>\n",
              "      <td>0</td>\n",
              "      <td>0</td>\n",
              "      <td>0</td>\n",
              "      <td>0</td>\n",
              "      <td>0</td>\n",
              "      <td>0</td>\n",
              "      <td>0</td>\n",
              "    </tr>\n",
              "    <tr>\n",
              "      <th>2</th>\n",
              "      <td>2</td>\n",
              "      <td>0</td>\n",
              "      <td>0</td>\n",
              "      <td>0</td>\n",
              "      <td>0</td>\n",
              "      <td>0</td>\n",
              "      <td>0</td>\n",
              "      <td>14</td>\n",
              "      <td>53</td>\n",
              "      <td>99</td>\n",
              "      <td>...</td>\n",
              "      <td>0</td>\n",
              "      <td>0</td>\n",
              "      <td>0</td>\n",
              "      <td>0</td>\n",
              "      <td>63</td>\n",
              "      <td>53</td>\n",
              "      <td>31</td>\n",
              "      <td>0</td>\n",
              "      <td>0</td>\n",
              "      <td>0</td>\n",
              "    </tr>\n",
              "    <tr>\n",
              "      <th>3</th>\n",
              "      <td>2</td>\n",
              "      <td>0</td>\n",
              "      <td>0</td>\n",
              "      <td>0</td>\n",
              "      <td>0</td>\n",
              "      <td>0</td>\n",
              "      <td>0</td>\n",
              "      <td>0</td>\n",
              "      <td>0</td>\n",
              "      <td>0</td>\n",
              "      <td>...</td>\n",
              "      <td>137</td>\n",
              "      <td>126</td>\n",
              "      <td>140</td>\n",
              "      <td>0</td>\n",
              "      <td>133</td>\n",
              "      <td>224</td>\n",
              "      <td>222</td>\n",
              "      <td>56</td>\n",
              "      <td>0</td>\n",
              "      <td>0</td>\n",
              "    </tr>\n",
              "    <tr>\n",
              "      <th>4</th>\n",
              "      <td>3</td>\n",
              "      <td>0</td>\n",
              "      <td>0</td>\n",
              "      <td>0</td>\n",
              "      <td>0</td>\n",
              "      <td>0</td>\n",
              "      <td>0</td>\n",
              "      <td>0</td>\n",
              "      <td>0</td>\n",
              "      <td>0</td>\n",
              "      <td>...</td>\n",
              "      <td>0</td>\n",
              "      <td>0</td>\n",
              "      <td>0</td>\n",
              "      <td>0</td>\n",
              "      <td>0</td>\n",
              "      <td>0</td>\n",
              "      <td>0</td>\n",
              "      <td>0</td>\n",
              "      <td>0</td>\n",
              "      <td>0</td>\n",
              "    </tr>\n",
              "  </tbody>\n",
              "</table>\n",
              "<p>5 rows × 785 columns</p>\n",
              "</div>"
            ],
            "text/plain": [
              "   label  pixel1  pixel2  pixel3  pixel4  pixel5  pixel6  pixel7  pixel8  \\\n",
              "0      0       0       0       0       0       0       0       0       9   \n",
              "1      1       0       0       0       0       0       0       0       0   \n",
              "2      2       0       0       0       0       0       0      14      53   \n",
              "3      2       0       0       0       0       0       0       0       0   \n",
              "4      3       0       0       0       0       0       0       0       0   \n",
              "\n",
              "   pixel9    ...     pixel775  pixel776  pixel777  pixel778  pixel779  \\\n",
              "0       8    ...          103        87        56         0         0   \n",
              "1       0    ...           34         0         0         0         0   \n",
              "2      99    ...            0         0         0         0        63   \n",
              "3       0    ...          137       126       140         0       133   \n",
              "4       0    ...            0         0         0         0         0   \n",
              "\n",
              "   pixel780  pixel781  pixel782  pixel783  pixel784  \n",
              "0         0         0         0         0         0  \n",
              "1         0         0         0         0         0  \n",
              "2        53        31         0         0         0  \n",
              "3       224       222        56         0         0  \n",
              "4         0         0         0         0         0  \n",
              "\n",
              "[5 rows x 785 columns]"
            ]
          },
          "metadata": {
            "tags": []
          },
          "execution_count": 5
        }
      ]
    },
    {
      "metadata": {
        "id": "yJguVRq5nNPR",
        "colab_type": "code",
        "colab": {
          "autoexec": {
            "startup": false,
            "wait_interval": 0
          },
          "base_uri": "https://localhost:8080/",
          "height": 253
        },
        "outputId": "bb855c7e-426f-4843-dab3-501c805e8f32",
        "executionInfo": {
          "status": "ok",
          "timestamp": 1525756563370,
          "user_tz": 240,
          "elapsed": 719,
          "user": {
            "displayName": "Julian Briceño",
            "photoUrl": "//lh6.googleusercontent.com/-cM5QEjH6glM/AAAAAAAAAAI/AAAAAAAAAEI/vpKwWe_9gnk/s50-c-k-no/photo.jpg",
            "userId": "110934278368506035141"
          }
        }
      },
      "cell_type": "code",
      "source": [
        "# Seleccionar todas las columnas menos la primera\n",
        "atributos_entrenamiento = df_entrenamiento[df_entrenamiento.columns[1:]]\n",
        "atributos_entrenamiento.head()"
      ],
      "execution_count": 6,
      "outputs": [
        {
          "output_type": "execute_result",
          "data": {
            "text/html": [
              "<div>\n",
              "<style scoped>\n",
              "    .dataframe tbody tr th:only-of-type {\n",
              "        vertical-align: middle;\n",
              "    }\n",
              "\n",
              "    .dataframe tbody tr th {\n",
              "        vertical-align: top;\n",
              "    }\n",
              "\n",
              "    .dataframe thead th {\n",
              "        text-align: right;\n",
              "    }\n",
              "</style>\n",
              "<table border=\"1\" class=\"dataframe\">\n",
              "  <thead>\n",
              "    <tr style=\"text-align: right;\">\n",
              "      <th></th>\n",
              "      <th>pixel1</th>\n",
              "      <th>pixel2</th>\n",
              "      <th>pixel3</th>\n",
              "      <th>pixel4</th>\n",
              "      <th>pixel5</th>\n",
              "      <th>pixel6</th>\n",
              "      <th>pixel7</th>\n",
              "      <th>pixel8</th>\n",
              "      <th>pixel9</th>\n",
              "      <th>pixel10</th>\n",
              "      <th>...</th>\n",
              "      <th>pixel775</th>\n",
              "      <th>pixel776</th>\n",
              "      <th>pixel777</th>\n",
              "      <th>pixel778</th>\n",
              "      <th>pixel779</th>\n",
              "      <th>pixel780</th>\n",
              "      <th>pixel781</th>\n",
              "      <th>pixel782</th>\n",
              "      <th>pixel783</th>\n",
              "      <th>pixel784</th>\n",
              "    </tr>\n",
              "  </thead>\n",
              "  <tbody>\n",
              "    <tr>\n",
              "      <th>0</th>\n",
              "      <td>0</td>\n",
              "      <td>0</td>\n",
              "      <td>0</td>\n",
              "      <td>0</td>\n",
              "      <td>0</td>\n",
              "      <td>0</td>\n",
              "      <td>0</td>\n",
              "      <td>0</td>\n",
              "      <td>0</td>\n",
              "      <td>0</td>\n",
              "      <td>...</td>\n",
              "      <td>0</td>\n",
              "      <td>0</td>\n",
              "      <td>0</td>\n",
              "      <td>0</td>\n",
              "      <td>0</td>\n",
              "      <td>0</td>\n",
              "      <td>0</td>\n",
              "      <td>0</td>\n",
              "      <td>0</td>\n",
              "      <td>0</td>\n",
              "    </tr>\n",
              "    <tr>\n",
              "      <th>1</th>\n",
              "      <td>0</td>\n",
              "      <td>0</td>\n",
              "      <td>0</td>\n",
              "      <td>0</td>\n",
              "      <td>0</td>\n",
              "      <td>0</td>\n",
              "      <td>0</td>\n",
              "      <td>0</td>\n",
              "      <td>0</td>\n",
              "      <td>0</td>\n",
              "      <td>...</td>\n",
              "      <td>0</td>\n",
              "      <td>0</td>\n",
              "      <td>0</td>\n",
              "      <td>0</td>\n",
              "      <td>0</td>\n",
              "      <td>0</td>\n",
              "      <td>0</td>\n",
              "      <td>0</td>\n",
              "      <td>0</td>\n",
              "      <td>0</td>\n",
              "    </tr>\n",
              "    <tr>\n",
              "      <th>2</th>\n",
              "      <td>0</td>\n",
              "      <td>0</td>\n",
              "      <td>0</td>\n",
              "      <td>0</td>\n",
              "      <td>0</td>\n",
              "      <td>0</td>\n",
              "      <td>0</td>\n",
              "      <td>5</td>\n",
              "      <td>0</td>\n",
              "      <td>0</td>\n",
              "      <td>...</td>\n",
              "      <td>0</td>\n",
              "      <td>0</td>\n",
              "      <td>0</td>\n",
              "      <td>30</td>\n",
              "      <td>43</td>\n",
              "      <td>0</td>\n",
              "      <td>0</td>\n",
              "      <td>0</td>\n",
              "      <td>0</td>\n",
              "      <td>0</td>\n",
              "    </tr>\n",
              "    <tr>\n",
              "      <th>3</th>\n",
              "      <td>0</td>\n",
              "      <td>0</td>\n",
              "      <td>0</td>\n",
              "      <td>1</td>\n",
              "      <td>2</td>\n",
              "      <td>0</td>\n",
              "      <td>0</td>\n",
              "      <td>0</td>\n",
              "      <td>0</td>\n",
              "      <td>0</td>\n",
              "      <td>...</td>\n",
              "      <td>3</td>\n",
              "      <td>0</td>\n",
              "      <td>0</td>\n",
              "      <td>0</td>\n",
              "      <td>0</td>\n",
              "      <td>1</td>\n",
              "      <td>0</td>\n",
              "      <td>0</td>\n",
              "      <td>0</td>\n",
              "      <td>0</td>\n",
              "    </tr>\n",
              "    <tr>\n",
              "      <th>4</th>\n",
              "      <td>0</td>\n",
              "      <td>0</td>\n",
              "      <td>0</td>\n",
              "      <td>0</td>\n",
              "      <td>0</td>\n",
              "      <td>0</td>\n",
              "      <td>0</td>\n",
              "      <td>0</td>\n",
              "      <td>0</td>\n",
              "      <td>0</td>\n",
              "      <td>...</td>\n",
              "      <td>0</td>\n",
              "      <td>0</td>\n",
              "      <td>0</td>\n",
              "      <td>0</td>\n",
              "      <td>0</td>\n",
              "      <td>0</td>\n",
              "      <td>0</td>\n",
              "      <td>0</td>\n",
              "      <td>0</td>\n",
              "      <td>0</td>\n",
              "    </tr>\n",
              "  </tbody>\n",
              "</table>\n",
              "<p>5 rows × 784 columns</p>\n",
              "</div>"
            ],
            "text/plain": [
              "   pixel1  pixel2  pixel3  pixel4  pixel5  pixel6  pixel7  pixel8  pixel9  \\\n",
              "0       0       0       0       0       0       0       0       0       0   \n",
              "1       0       0       0       0       0       0       0       0       0   \n",
              "2       0       0       0       0       0       0       0       5       0   \n",
              "3       0       0       0       1       2       0       0       0       0   \n",
              "4       0       0       0       0       0       0       0       0       0   \n",
              "\n",
              "   pixel10    ...     pixel775  pixel776  pixel777  pixel778  pixel779  \\\n",
              "0        0    ...            0         0         0         0         0   \n",
              "1        0    ...            0         0         0         0         0   \n",
              "2        0    ...            0         0         0        30        43   \n",
              "3        0    ...            3         0         0         0         0   \n",
              "4        0    ...            0         0         0         0         0   \n",
              "\n",
              "   pixel780  pixel781  pixel782  pixel783  pixel784  \n",
              "0         0         0         0         0         0  \n",
              "1         0         0         0         0         0  \n",
              "2         0         0         0         0         0  \n",
              "3         1         0         0         0         0  \n",
              "4         0         0         0         0         0  \n",
              "\n",
              "[5 rows x 784 columns]"
            ]
          },
          "metadata": {
            "tags": []
          },
          "execution_count": 6
        }
      ]
    },
    {
      "metadata": {
        "id": "i9tWd3B_z_Jj",
        "colab_type": "code",
        "colab": {
          "autoexec": {
            "startup": false,
            "wait_interval": 0
          },
          "base_uri": "https://localhost:8080/",
          "height": 253
        },
        "outputId": "7350816b-dd16-44fa-d487-65776f483188",
        "executionInfo": {
          "status": "ok",
          "timestamp": 1525756564176,
          "user_tz": 240,
          "elapsed": 624,
          "user": {
            "displayName": "Julian Briceño",
            "photoUrl": "//lh6.googleusercontent.com/-cM5QEjH6glM/AAAAAAAAAAI/AAAAAAAAAEI/vpKwWe_9gnk/s50-c-k-no/photo.jpg",
            "userId": "110934278368506035141"
          }
        }
      },
      "cell_type": "code",
      "source": [
        "atributos_prueba = df_prueba[df_prueba.columns[1:]]\n",
        "atributos_prueba.head()"
      ],
      "execution_count": 7,
      "outputs": [
        {
          "output_type": "execute_result",
          "data": {
            "text/html": [
              "<div>\n",
              "<style scoped>\n",
              "    .dataframe tbody tr th:only-of-type {\n",
              "        vertical-align: middle;\n",
              "    }\n",
              "\n",
              "    .dataframe tbody tr th {\n",
              "        vertical-align: top;\n",
              "    }\n",
              "\n",
              "    .dataframe thead th {\n",
              "        text-align: right;\n",
              "    }\n",
              "</style>\n",
              "<table border=\"1\" class=\"dataframe\">\n",
              "  <thead>\n",
              "    <tr style=\"text-align: right;\">\n",
              "      <th></th>\n",
              "      <th>pixel1</th>\n",
              "      <th>pixel2</th>\n",
              "      <th>pixel3</th>\n",
              "      <th>pixel4</th>\n",
              "      <th>pixel5</th>\n",
              "      <th>pixel6</th>\n",
              "      <th>pixel7</th>\n",
              "      <th>pixel8</th>\n",
              "      <th>pixel9</th>\n",
              "      <th>pixel10</th>\n",
              "      <th>...</th>\n",
              "      <th>pixel775</th>\n",
              "      <th>pixel776</th>\n",
              "      <th>pixel777</th>\n",
              "      <th>pixel778</th>\n",
              "      <th>pixel779</th>\n",
              "      <th>pixel780</th>\n",
              "      <th>pixel781</th>\n",
              "      <th>pixel782</th>\n",
              "      <th>pixel783</th>\n",
              "      <th>pixel784</th>\n",
              "    </tr>\n",
              "  </thead>\n",
              "  <tbody>\n",
              "    <tr>\n",
              "      <th>0</th>\n",
              "      <td>0</td>\n",
              "      <td>0</td>\n",
              "      <td>0</td>\n",
              "      <td>0</td>\n",
              "      <td>0</td>\n",
              "      <td>0</td>\n",
              "      <td>0</td>\n",
              "      <td>9</td>\n",
              "      <td>8</td>\n",
              "      <td>0</td>\n",
              "      <td>...</td>\n",
              "      <td>103</td>\n",
              "      <td>87</td>\n",
              "      <td>56</td>\n",
              "      <td>0</td>\n",
              "      <td>0</td>\n",
              "      <td>0</td>\n",
              "      <td>0</td>\n",
              "      <td>0</td>\n",
              "      <td>0</td>\n",
              "      <td>0</td>\n",
              "    </tr>\n",
              "    <tr>\n",
              "      <th>1</th>\n",
              "      <td>0</td>\n",
              "      <td>0</td>\n",
              "      <td>0</td>\n",
              "      <td>0</td>\n",
              "      <td>0</td>\n",
              "      <td>0</td>\n",
              "      <td>0</td>\n",
              "      <td>0</td>\n",
              "      <td>0</td>\n",
              "      <td>0</td>\n",
              "      <td>...</td>\n",
              "      <td>34</td>\n",
              "      <td>0</td>\n",
              "      <td>0</td>\n",
              "      <td>0</td>\n",
              "      <td>0</td>\n",
              "      <td>0</td>\n",
              "      <td>0</td>\n",
              "      <td>0</td>\n",
              "      <td>0</td>\n",
              "      <td>0</td>\n",
              "    </tr>\n",
              "    <tr>\n",
              "      <th>2</th>\n",
              "      <td>0</td>\n",
              "      <td>0</td>\n",
              "      <td>0</td>\n",
              "      <td>0</td>\n",
              "      <td>0</td>\n",
              "      <td>0</td>\n",
              "      <td>14</td>\n",
              "      <td>53</td>\n",
              "      <td>99</td>\n",
              "      <td>17</td>\n",
              "      <td>...</td>\n",
              "      <td>0</td>\n",
              "      <td>0</td>\n",
              "      <td>0</td>\n",
              "      <td>0</td>\n",
              "      <td>63</td>\n",
              "      <td>53</td>\n",
              "      <td>31</td>\n",
              "      <td>0</td>\n",
              "      <td>0</td>\n",
              "      <td>0</td>\n",
              "    </tr>\n",
              "    <tr>\n",
              "      <th>3</th>\n",
              "      <td>0</td>\n",
              "      <td>0</td>\n",
              "      <td>0</td>\n",
              "      <td>0</td>\n",
              "      <td>0</td>\n",
              "      <td>0</td>\n",
              "      <td>0</td>\n",
              "      <td>0</td>\n",
              "      <td>0</td>\n",
              "      <td>161</td>\n",
              "      <td>...</td>\n",
              "      <td>137</td>\n",
              "      <td>126</td>\n",
              "      <td>140</td>\n",
              "      <td>0</td>\n",
              "      <td>133</td>\n",
              "      <td>224</td>\n",
              "      <td>222</td>\n",
              "      <td>56</td>\n",
              "      <td>0</td>\n",
              "      <td>0</td>\n",
              "    </tr>\n",
              "    <tr>\n",
              "      <th>4</th>\n",
              "      <td>0</td>\n",
              "      <td>0</td>\n",
              "      <td>0</td>\n",
              "      <td>0</td>\n",
              "      <td>0</td>\n",
              "      <td>0</td>\n",
              "      <td>0</td>\n",
              "      <td>0</td>\n",
              "      <td>0</td>\n",
              "      <td>0</td>\n",
              "      <td>...</td>\n",
              "      <td>0</td>\n",
              "      <td>0</td>\n",
              "      <td>0</td>\n",
              "      <td>0</td>\n",
              "      <td>0</td>\n",
              "      <td>0</td>\n",
              "      <td>0</td>\n",
              "      <td>0</td>\n",
              "      <td>0</td>\n",
              "      <td>0</td>\n",
              "    </tr>\n",
              "  </tbody>\n",
              "</table>\n",
              "<p>5 rows × 784 columns</p>\n",
              "</div>"
            ],
            "text/plain": [
              "   pixel1  pixel2  pixel3  pixel4  pixel5  pixel6  pixel7  pixel8  pixel9  \\\n",
              "0       0       0       0       0       0       0       0       9       8   \n",
              "1       0       0       0       0       0       0       0       0       0   \n",
              "2       0       0       0       0       0       0      14      53      99   \n",
              "3       0       0       0       0       0       0       0       0       0   \n",
              "4       0       0       0       0       0       0       0       0       0   \n",
              "\n",
              "   pixel10    ...     pixel775  pixel776  pixel777  pixel778  pixel779  \\\n",
              "0        0    ...          103        87        56         0         0   \n",
              "1        0    ...           34         0         0         0         0   \n",
              "2       17    ...            0         0         0         0        63   \n",
              "3      161    ...          137       126       140         0       133   \n",
              "4        0    ...            0         0         0         0         0   \n",
              "\n",
              "   pixel780  pixel781  pixel782  pixel783  pixel784  \n",
              "0         0         0         0         0         0  \n",
              "1         0         0         0         0         0  \n",
              "2        53        31         0         0         0  \n",
              "3       224       222        56         0         0  \n",
              "4         0         0         0         0         0  \n",
              "\n",
              "[5 rows x 784 columns]"
            ]
          },
          "metadata": {
            "tags": []
          },
          "execution_count": 7
        }
      ]
    },
    {
      "metadata": {
        "id": "GXCsc8xTnNPX",
        "colab_type": "code",
        "colab": {
          "autoexec": {
            "startup": false,
            "wait_interval": 0
          },
          "base_uri": "https://localhost:8080/",
          "height": 170
        },
        "outputId": "34ce905a-0070-4753-c86d-a725f032effb",
        "executionInfo": {
          "status": "ok",
          "timestamp": 1525756565705,
          "user_tz": 240,
          "elapsed": 1379,
          "user": {
            "displayName": "Julian Briceño",
            "photoUrl": "//lh6.googleusercontent.com/-cM5QEjH6glM/AAAAAAAAAAI/AAAAAAAAAEI/vpKwWe_9gnk/s50-c-k-no/photo.jpg",
            "userId": "110934278368506035141"
          }
        }
      },
      "cell_type": "code",
      "source": [
        "\n",
        "etiquetas_entrenamiento = df_entrenamiento['label']\n",
        "etiquetas_entrenamiento.describe(include='all')"
      ],
      "execution_count": 8,
      "outputs": [
        {
          "output_type": "execute_result",
          "data": {
            "text/plain": [
              "count    60000.000000\n",
              "mean         4.500000\n",
              "std          2.872305\n",
              "min          0.000000\n",
              "25%          2.000000\n",
              "50%          4.500000\n",
              "75%          7.000000\n",
              "max          9.000000\n",
              "Name: label, dtype: float64"
            ]
          },
          "metadata": {
            "tags": []
          },
          "execution_count": 8
        }
      ]
    },
    {
      "metadata": {
        "id": "KfRpgWLF0VaF",
        "colab_type": "code",
        "colab": {
          "autoexec": {
            "startup": false,
            "wait_interval": 0
          },
          "base_uri": "https://localhost:8080/",
          "height": 170
        },
        "outputId": "4139d20d-8ec6-4594-d5cc-e590bd401018",
        "executionInfo": {
          "status": "ok",
          "timestamp": 1525756566543,
          "user_tz": 240,
          "elapsed": 609,
          "user": {
            "displayName": "Julian Briceño",
            "photoUrl": "//lh6.googleusercontent.com/-cM5QEjH6glM/AAAAAAAAAAI/AAAAAAAAAEI/vpKwWe_9gnk/s50-c-k-no/photo.jpg",
            "userId": "110934278368506035141"
          }
        }
      },
      "cell_type": "code",
      "source": [
        "etiquetas_prueba = df_prueba['label']\n",
        "etiquetas_prueba.describe(include='all')"
      ],
      "execution_count": 9,
      "outputs": [
        {
          "output_type": "execute_result",
          "data": {
            "text/plain": [
              "count    10000.000000\n",
              "mean         4.500000\n",
              "std          2.872425\n",
              "min          0.000000\n",
              "25%          2.000000\n",
              "50%          4.500000\n",
              "75%          7.000000\n",
              "max          9.000000\n",
              "Name: label, dtype: float64"
            ]
          },
          "metadata": {
            "tags": []
          },
          "execution_count": 9
        }
      ]
    },
    {
      "metadata": {
        "id": "Wcv1JnMPnNPf",
        "colab_type": "code",
        "colab": {
          "autoexec": {
            "startup": false,
            "wait_interval": 0
          },
          "base_uri": "https://localhost:8080/",
          "height": 34
        },
        "outputId": "0739d9da-498b-47b7-dfff-9924596c07a3",
        "executionInfo": {
          "status": "ok",
          "timestamp": 1525756568321,
          "user_tz": 240,
          "elapsed": 1633,
          "user": {
            "displayName": "Julian Briceño",
            "photoUrl": "//lh6.googleusercontent.com/-cM5QEjH6glM/AAAAAAAAAAI/AAAAAAAAAEI/vpKwWe_9gnk/s50-c-k-no/photo.jpg",
            "userId": "110934278368506035141"
          }
        }
      },
      "cell_type": "code",
      "source": [
        "atributos_entrenamiento.values.shape"
      ],
      "execution_count": 10,
      "outputs": [
        {
          "output_type": "execute_result",
          "data": {
            "text/plain": [
              "(60000, 784)"
            ]
          },
          "metadata": {
            "tags": []
          },
          "execution_count": 10
        }
      ]
    },
    {
      "metadata": {
        "id": "5jcGSH-C0_xL",
        "colab_type": "code",
        "colab": {
          "autoexec": {
            "startup": false,
            "wait_interval": 0
          },
          "base_uri": "https://localhost:8080/",
          "height": 34
        },
        "outputId": "408521a6-2adc-40cb-efff-cf7c1d891ac5",
        "executionInfo": {
          "status": "ok",
          "timestamp": 1525756569076,
          "user_tz": 240,
          "elapsed": 593,
          "user": {
            "displayName": "Julian Briceño",
            "photoUrl": "//lh6.googleusercontent.com/-cM5QEjH6glM/AAAAAAAAAAI/AAAAAAAAAEI/vpKwWe_9gnk/s50-c-k-no/photo.jpg",
            "userId": "110934278368506035141"
          }
        }
      },
      "cell_type": "code",
      "source": [
        "atributos_prueba.values.shape"
      ],
      "execution_count": 11,
      "outputs": [
        {
          "output_type": "execute_result",
          "data": {
            "text/plain": [
              "(10000, 784)"
            ]
          },
          "metadata": {
            "tags": []
          },
          "execution_count": 11
        }
      ]
    },
    {
      "metadata": {
        "id": "_Of0yilenNPl",
        "colab_type": "code",
        "colab": {
          "autoexec": {
            "startup": false,
            "wait_interval": 0
          }
        }
      },
      "cell_type": "code",
      "source": [
        "tabla_de_etiquetas = [\n",
        "    'Camiseta',\n",
        "    'Pantalón',\n",
        "    'Pull-over',\n",
        "    'Vestido',\n",
        "    'Chaqueta',\n",
        "    'Sandalia',\n",
        "    'Camisa',\n",
        "    'Deportivo',\n",
        "    'Bolso',\n",
        "    'Botín'\n",
        "]"
      ],
      "execution_count": 0,
      "outputs": []
    },
    {
      "metadata": {
        "id": "4-qugZCHnNPq",
        "colab_type": "text"
      },
      "cell_type": "markdown",
      "source": [
        "## Desarrollar el Clasificador usando Redes Neuronales Profundas"
      ]
    },
    {
      "metadata": {
        "id": "tbEph6pinNPs",
        "colab_type": "code",
        "colab": {
          "autoexec": {
            "startup": false,
            "wait_interval": 0
          },
          "base_uri": "https://localhost:8080/",
          "height": 34
        },
        "outputId": "9a2be7fd-f113-4144-9bb1-81a51c93198f",
        "executionInfo": {
          "status": "ok",
          "timestamp": 1525756577635,
          "user_tz": 240,
          "elapsed": 7631,
          "user": {
            "displayName": "Julian Briceño",
            "photoUrl": "//lh6.googleusercontent.com/-cM5QEjH6glM/AAAAAAAAAAI/AAAAAAAAAEI/vpKwWe_9gnk/s50-c-k-no/photo.jpg",
            "userId": "110934278368506035141"
          }
        }
      },
      "cell_type": "code",
      "source": [
        "##  importando las clases y funciones que necesitaremos.\n",
        "import numpy\n",
        "from keras.datasets import mnist\n",
        "from keras.models import Sequential\n",
        "from keras.layers import Dense\n",
        "from keras.layers import Dropout\n",
        "from keras.utils import np_utils\n",
        "from keras.layers import Flatten\n",
        "from keras.layers.convolutional import Conv2D\n",
        "from keras.layers.convolutional import MaxPooling2D\n",
        "from keras.layers.convolutional import AveragePooling2D\n",
        "from keras.utils import np_utils\n",
        "from keras import backend as K\n",
        "K.set_image_dim_ordering('th')"
      ],
      "execution_count": 13,
      "outputs": [
        {
          "output_type": "stream",
          "text": [
            "Using TensorFlow backend.\n"
          ],
          "name": "stderr"
        }
      ]
    },
    {
      "metadata": {
        "id": "PDg_zoNYxhCk",
        "colab_type": "text"
      },
      "cell_type": "markdown",
      "source": [
        "## inicializar el generador de números aleatorios\n"
      ]
    },
    {
      "metadata": {
        "id": "-xNgodwfwUIJ",
        "colab_type": "code",
        "colab": {
          "autoexec": {
            "startup": false,
            "wait_interval": 0
          }
        }
      },
      "cell_type": "code",
      "source": [
        "seed = 7\n",
        "numpy.random.seed(seed)"
      ],
      "execution_count": 0,
      "outputs": []
    },
    {
      "metadata": {
        "id": "6-BZ4mNL1Q_Q",
        "colab_type": "text"
      },
      "cell_type": "markdown",
      "source": [
        " ### Cargarmos los conjuntos\n"
      ]
    },
    {
      "metadata": {
        "id": "CXntq86Jx6aC",
        "colab_type": "code",
        "colab": {
          "autoexec": {
            "startup": false,
            "wait_interval": 0
          }
        }
      },
      "cell_type": "code",
      "source": [
        "X_entrenamiento = atributos_entrenamiento.values\n",
        "y_entrenamiento = etiquetas_entrenamiento.values\n",
        "X_prueba        = atributos_prueba.values\n",
        "y_prueba        = etiquetas_prueba.values\n",
        "\n",
        "X_entrenamiento = X_entrenamiento.reshape(X_entrenamiento.shape[0], 1, 28, 28).astype('float32')\n",
        "X_prueba = X_prueba.reshape(X_prueba.shape[0], 1, 28, 28).astype('float32')"
      ],
      "execution_count": 0,
      "outputs": []
    },
    {
      "metadata": {
        "id": "rbHPs1bP2h3K",
        "colab_type": "text"
      },
      "cell_type": "markdown",
      "source": [
        "### Normalizamos y se categorizan las salidas como One Shot\n",
        "\n",
        "\n"
      ]
    },
    {
      "metadata": {
        "id": "ek_ZloQ114FF",
        "colab_type": "code",
        "colab": {
          "autoexec": {
            "startup": false,
            "wait_interval": 0
          }
        }
      },
      "cell_type": "code",
      "source": [
        "# normalizar las entradas de 0-255 a 0-1\n",
        "X_entrenamiento = X_entrenamiento / 255\n",
        "X_prueba = X_prueba / 255\n",
        "# codificar salidas como \"one hot\"\n",
        "y_entrenamiento = np_utils.to_categorical(y_entrenamiento)\n",
        "y_prueba = np_utils.to_categorical(y_prueba)\n",
        "num_clases = y_prueba.shape[1]"
      ],
      "execution_count": 0,
      "outputs": []
    },
    {
      "metadata": {
        "id": "lTtUwQ1SCaVe",
        "colab_type": "text"
      },
      "cell_type": "markdown",
      "source": [
        "### Definimos el modelo convolucional"
      ]
    },
    {
      "metadata": {
        "id": "At6HBwQ05pn2",
        "colab_type": "code",
        "colab": {
          "autoexec": {
            "startup": false,
            "wait_interval": 0
          }
        }
      },
      "cell_type": "code",
      "source": [
        "# Modelo Convolucional \n",
        "def modelo_base():\n",
        "    # crear modelo\n",
        "    modelo = Sequential()\n",
        "    modelo.add(Conv2D(32, (5, 5), input_shape=(1, 28, 28), activation='relu')) # Creo la convolución\n",
        "    modelo.add(MaxPooling2D(pool_size=(2, 2))) # hago la reducción\n",
        "    modelo.add(Dropout(0.2)) # Apago las neuronas\n",
        "    modelo.add(Flatten()) # Aplano\n",
        "    modelo.add(Dense(128, activation='relu')) # Totalmente conectada \n",
        "    modelo.add(Dense(num_clases, activation='softmax')) # Softmax\n",
        "    # Compilar modelo\n",
        "    modelo.compile(loss='categorical_crossentropy', optimizer='adam', metrics=['accuracy'])\n",
        "    return modelo\n"
      ],
      "execution_count": 0,
      "outputs": []
    },
    {
      "metadata": {
        "id": "ELiuq6nQILYX",
        "colab_type": "text"
      },
      "cell_type": "markdown",
      "source": [
        "## Construimos e imprimimos el modelo convolucional\n",
        "\n"
      ]
    },
    {
      "metadata": {
        "id": "KNHlbucOIZ6j",
        "colab_type": "code",
        "colab": {
          "autoexec": {
            "startup": false,
            "wait_interval": 0
          },
          "base_uri": "https://localhost:8080/",
          "height": 323
        },
        "outputId": "2be0dca9-d9bd-4e3c-dc29-53b770ba0aee",
        "executionInfo": {
          "status": "ok",
          "timestamp": 1525756624014,
          "user_tz": 240,
          "elapsed": 42754,
          "user": {
            "displayName": "Julian Briceño",
            "photoUrl": "//lh6.googleusercontent.com/-cM5QEjH6glM/AAAAAAAAAAI/AAAAAAAAAEI/vpKwWe_9gnk/s50-c-k-no/photo.jpg",
            "userId": "110934278368506035141"
          }
        }
      },
      "cell_type": "code",
      "source": [
        "# construir el modelo\n",
        "modelo = modelo_base()\n",
        "# Entrenar el modelo\n",
        "modelo.fit(X_entrenamiento, y_entrenamiento, validation_data=(X_prueba, y_prueba), epochs=8, batch_size=200, verbose=2)\n",
        "# Evaluación final del modelo\n",
        "puntuacion = modelo.evaluate(X_prueba, y_prueba, verbose=0)\n",
        "print(\"Error RNC: %.2f%%\" % (100-puntuacion[1]*100))"
      ],
      "execution_count": 18,
      "outputs": [
        {
          "output_type": "stream",
          "text": [
            "Train on 60000 samples, validate on 10000 samples\n",
            "Epoch 1/8\n",
            " - 6s - loss: 0.5192 - acc: 0.8162 - val_loss: 0.3788 - val_acc: 0.8703\n",
            "Epoch 2/8\n",
            " - 5s - loss: 0.3429 - acc: 0.8789 - val_loss: 0.3085 - val_acc: 0.8913\n",
            "Epoch 3/8\n",
            " - 5s - loss: 0.3020 - acc: 0.8912 - val_loss: 0.2853 - val_acc: 0.8981\n",
            "Epoch 4/8\n",
            " - 5s - loss: 0.2759 - acc: 0.9000 - val_loss: 0.2625 - val_acc: 0.9070\n",
            "Epoch 5/8\n",
            " - 5s - loss: 0.2555 - acc: 0.9064 - val_loss: 0.2521 - val_acc: 0.9093\n",
            "Epoch 6/8\n",
            " - 5s - loss: 0.2395 - acc: 0.9131 - val_loss: 0.2496 - val_acc: 0.9082\n",
            "Epoch 7/8\n",
            " - 5s - loss: 0.2289 - acc: 0.9151 - val_loss: 0.2391 - val_acc: 0.9140\n",
            "Epoch 8/8\n",
            " - 5s - loss: 0.2128 - acc: 0.9213 - val_loss: 0.2319 - val_acc: 0.9160\n",
            "Error RNC: 8.40%\n"
          ],
          "name": "stdout"
        }
      ]
    }
  ]
}